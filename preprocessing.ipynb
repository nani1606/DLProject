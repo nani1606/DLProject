{
 "cells": [
  {
   "cell_type": "code",
   "execution_count": 1,
   "metadata": {},
   "outputs": [],
   "source": [
    "import tensorflow as tf\n",
    "from tensorflow.keras.preprocessing.image import ImageDataGenerator"
   ]
  },
  {
   "cell_type": "code",
   "execution_count": 12,
   "metadata": {},
   "outputs": [
    {
     "name": "stdout",
     "output_type": "stream",
     "text": [
      "Found 4694 images belonging to 2 classes.\n",
      "Found 585 images belonging to 2 classes.\n",
      "Found 586 images belonging to 2 classes.\n"
     ]
    }
   ],
   "source": [
    "#preprocessing for efficient net\n",
    "\n",
    "IMG_SIZE = 224\n",
    "BATCH_SIZE = 32\n",
    "\n",
    "# Augmentation for training\n",
    "train_datagen = ImageDataGenerator(\n",
    "    rescale=1.0/255.0,\n",
    "    rotation_range=30,\n",
    "    width_shift_range=0.2,\n",
    "    height_shift_range=0.2,\n",
    "    shear_range=0.2,\n",
    "    zoom_range=0.2,\n",
    "    horizontal_flip=True,\n",
    "    brightness_range=[0.8, 1.2]\n",
    ")\n",
    "\n",
    "# No augmentation for validation and test sets\n",
    "val_test_datagen = ImageDataGenerator(rescale=1.0/255.0)\n",
    "\n",
    "# Paths to train, val, and test directories\n",
    "train_dir = \"chest_xray/train\"\n",
    "val_dir = \"chest_xray/validation\"\n",
    "test_dir = \"chest_xray/test\"\n",
    "\n",
    "# Load each set\n",
    "train_generator = train_datagen.flow_from_directory(\n",
    "    train_dir,\n",
    "    target_size=(IMG_SIZE, IMG_SIZE),\n",
    "    batch_size=BATCH_SIZE,\n",
    "    class_mode='binary',\n",
    "    shuffle=True\n",
    ")\n",
    "\n",
    "val_generator = val_test_datagen.flow_from_directory(\n",
    "    val_dir,\n",
    "    target_size=(IMG_SIZE, IMG_SIZE),\n",
    "    batch_size=BATCH_SIZE,\n",
    "    class_mode='binary',\n",
    "    shuffle=True\n",
    ")\n",
    "\n",
    "test_generator = val_test_datagen.flow_from_directory(\n",
    "    test_dir,\n",
    "    target_size=(IMG_SIZE, IMG_SIZE),\n",
    "    batch_size=BATCH_SIZE,\n",
    "    class_mode='binary',\n",
    "    shuffle=False\n",
    ")"
   ]
  },
  {
   "cell_type": "code",
   "execution_count": 13,
   "metadata": {},
   "outputs": [],
   "source": [
    "# import matplotlib.pyplot as plt\n",
    "# import numpy as np\n",
    "\n",
    "# # Get a batch of images and labels\n",
    "# image_batch, label_batch = next(train_generator)\n",
    "\n",
    "# # Number of images to display\n",
    "# num_images = 10\n",
    "\n",
    "# # Iterate over the batch and plot each image\n",
    "\n",
    "# fig, axes = plt.subplots(2, 5, figsize=(15, 6))\n",
    "# for i in range(num_images):\n",
    "#     row = i // 5\n",
    "#     col = i % 5\n",
    "#     axes[row, col].imshow(image_batch[i])\n",
    "#     axes[row, col].axis('off')\n",
    "    \n",
    "#     # Display label (0 or 1), where 0 might indicate 'Normal' and 1 'Pneumonia'\n",
    "#     label = label_batch[i]\n",
    "#     class_name = 'Normal' if label == 0 else 'Pneumonia'\n",
    "#     axes[row, col].set_title(class_name, color='red')\n",
    "\n",
    "# plt.tight_layout()\n",
    "# plt.show()"
   ]
  },
  {
   "cell_type": "markdown",
   "metadata": {},
   "source": [
    "# Addressing issue 2"
   ]
  },
  {
   "cell_type": "code",
   "execution_count": 14,
   "metadata": {},
   "outputs": [],
   "source": [
    "from tensorflow.keras.applications import EfficientNetB0\n",
    "from tensorflow.keras.layers import Dense, GlobalAveragePooling2D, Dropout\n",
    "from tensorflow.keras.models import Model\n",
    "from tensorflow.keras.optimizers import Adam\n",
    "\n",
    "# Load the pre-trained EfficientNet-B0 model without the top layer\n",
    "base_model = EfficientNetB0(weights='imagenet', include_top=False, input_shape=(IMG_SIZE, IMG_SIZE, 3))\n",
    "\n",
    "# Freeze the base model layers to retain pre-trained weights initially\n",
    "base_model.trainable = True\n",
    "\n",
    "x = base_model.output\n",
    "x = GlobalAveragePooling2D()(x)  \n",
    "x = Dense(128, activation='relu')(x) \n",
    "x= Dropout(0.4)(x)\n",
    "x = Dense(1, activation='sigmoid')(x)\n",
    "\n",
    "model = Model(inputs=base_model.input, outputs=x)\n",
    "\n",
    "model.compile(optimizer=Adam(learning_rate=1e-4),\n",
    "              loss='binary_crossentropy',\n",
    "              metrics=['accuracy'])\n",
    "\n",
    "# model.summary()"
   ]
  },
  {
   "cell_type": "markdown",
   "metadata": {},
   "source": [
    "# adding normalization and dropuout layers"
   ]
  },
  {
   "cell_type": "code",
   "execution_count": 17,
   "metadata": {},
   "outputs": [],
   "source": [
    "from tensorflow.keras.layers import BatchNormalization, Dropout\n",
    "from tensorflow.keras.optimizers.schedules import ExponentialDecay\n",
    "from tensorflow.keras.optimizers import AdamW\n",
    "x = base_model.output\n",
    "x = GlobalAveragePooling2D()(x)\n",
    "\n",
    "x = Dense(128, activation='relu')(x)\n",
    "#conv1d\n",
    "x = BatchNormalization()(x)\n",
    "x = Dropout(0.3)(x) \n",
    "\n",
    "x = Dense(1, activation='sigmoid')(x)\n",
    "\n",
    "# final model\n",
    "model = Model(inputs=base_model.input, outputs=x)\n",
    "\n",
    "lr_schedule = ExponentialDecay(initial_learning_rate=1e-3, decay_steps=10000, decay_rate=0.9)\n",
    "\n",
    "# Use AdamW with the schedule\n",
    "optimizer = AdamW(learning_rate=lr_schedule)\n",
    "\n",
    "# Compile the model\n",
    "model.compile(optimizer=optimizer, loss='binary_crossentropy', metrics=['accuracy'])\n",
    "\n",
    "# Summary of the model\n",
    "# model.summary()"
   ]
  },
  {
   "cell_type": "code",
   "execution_count": 18,
   "metadata": {},
   "outputs": [
    {
     "name": "stdout",
     "output_type": "stream",
     "text": [
      "Epoch 1/50\n",
      "146/146 - 369s - 3s/step - accuracy: 0.9339 - loss: 0.2105 - val_accuracy: 0.7292 - val_loss: 2.8383\n",
      "Epoch 2/50\n",
      "146/146 - 3s - 19ms/step - accuracy: 0.9375 - loss: 0.0569 - val_accuracy: 0.7778 - val_loss: 0.9620\n",
      "Epoch 3/50\n",
      "146/146 - 377s - 3s/step - accuracy: 0.9337 - loss: 0.2051 - val_accuracy: 0.8819 - val_loss: 0.3331\n",
      "Epoch 4/50\n",
      "146/146 - 3s - 18ms/step - accuracy: 1.0000 - loss: 0.0279 - val_accuracy: 0.8889 - val_loss: 0.1925\n",
      "Epoch 5/50\n",
      "146/146 - 350s - 2s/step - accuracy: 0.9462 - loss: 0.1651 - val_accuracy: 0.7326 - val_loss: 0.4857\n",
      "Epoch 6/50\n",
      "146/146 - 3s - 19ms/step - accuracy: 0.8750 - loss: 0.1254 - val_accuracy: 0.4444 - val_loss: 0.4755\n",
      "Epoch 7/50\n",
      "146/146 - 523s - 4s/step - accuracy: 0.9455 - loss: 0.1475 - val_accuracy: 0.9219 - val_loss: 0.7691\n",
      "Epoch 8/50\n",
      "146/146 - 3s - 19ms/step - accuracy: 0.9062 - loss: 0.0737 - val_accuracy: 1.0000 - val_loss: 0.0293\n",
      "Epoch 9/50\n",
      "146/146 - 410s - 3s/step - accuracy: 0.9550 - loss: 0.1241 - val_accuracy: 0.6007 - val_loss: 2.2157\n",
      "Epoch 10/50\n",
      "146/146 - 3s - 18ms/step - accuracy: 0.9688 - loss: 0.0275 - val_accuracy: 0.6667 - val_loss: 0.8916\n",
      "Epoch 11/50\n",
      "146/146 - 539s - 4s/step - accuracy: 0.9556 - loss: 0.1187 - val_accuracy: 0.9722 - val_loss: 0.1062\n",
      "Epoch 12/50\n",
      "146/146 - 5s - 37ms/step - accuracy: 0.9375 - loss: 0.0756 - val_accuracy: 1.0000 - val_loss: 0.0126\n",
      "Epoch 13/50\n",
      "146/146 - 474s - 3s/step - accuracy: 0.9657 - loss: 0.1030 - val_accuracy: 0.9253 - val_loss: 0.4042\n",
      "Epoch 14/50\n",
      "146/146 - 2s - 17ms/step - accuracy: 0.9375 - loss: 0.1618 - val_accuracy: 1.0000 - val_loss: 0.0797\n",
      "Epoch 15/50\n",
      "146/146 - 348s - 2s/step - accuracy: 0.9610 - loss: 0.1048 - val_accuracy: 0.9444 - val_loss: 0.1925\n",
      "Epoch 16/50\n",
      "146/146 - 2s - 17ms/step - accuracy: 1.0000 - loss: 0.0202 - val_accuracy: 1.0000 - val_loss: 0.0088\n",
      "Epoch 17/50\n",
      "146/146 - 386s - 3s/step - accuracy: 0.9700 - loss: 0.0966 - val_accuracy: 0.9444 - val_loss: 0.1976\n",
      "Epoch 18/50\n",
      "146/146 - 3s - 20ms/step - accuracy: 0.9375 - loss: 0.0981 - val_accuracy: 0.8889 - val_loss: 0.1342\n",
      "Epoch 19/50\n",
      "146/146 - 422s - 3s/step - accuracy: 0.9629 - loss: 0.1052 - val_accuracy: 0.8646 - val_loss: 0.5770\n",
      "Epoch 20/50\n",
      "146/146 - 4s - 29ms/step - accuracy: 1.0000 - loss: 0.0318 - val_accuracy: 0.7778 - val_loss: 0.4475\n",
      "Epoch 21/50\n",
      "146/146 - 946s - 6s/step - accuracy: 0.9657 - loss: 0.1038 - val_accuracy: 0.9774 - val_loss: 0.0681\n"
     ]
    }
   ],
   "source": [
    "from tensorflow.keras.callbacks import EarlyStopping, ReduceLROnPlateau\n",
    "early_stopping = EarlyStopping(monitor='val_loss', patience=5, restore_best_weights=True)\n",
    "reduce_lr = ReduceLROnPlateau(monitor='val_loss', factor=0.2, patience=3, min_lr=1e-6)\n",
    "\n",
    "#early stopping(patience)\n",
    "# Train the model\n",
    "history = model.fit(\n",
    "    train_generator,\n",
    "    steps_per_epoch=146,\n",
    "    validation_data=val_generator,\n",
    "    validation_steps=18,\n",
    "    epochs=50,\n",
    "    verbose=2,\n",
    "    callbacks=[early_stopping]\n",
    ")"
   ]
  },
  {
   "cell_type": "code",
   "execution_count": 20,
   "metadata": {},
   "outputs": [
    {
     "name": "stdout",
     "output_type": "stream",
     "text": [
      "\u001b[1m18/18\u001b[0m \u001b[32m━━━━━━━━━━━━━━━━━━━━\u001b[0m\u001b[37m\u001b[0m \u001b[1m11s\u001b[0m 579ms/step - accuracy: 0.9558 - loss: 0.0910\n",
      "Test Loss: 0.1271\n",
      "Test Accuracy: 0.9427\n"
     ]
    }
   ],
   "source": [
    "test_loss, test_accuracy = model.evaluate(\n",
    "    test_generator,\n",
    "    steps=586 // BATCH_SIZE,  # Total steps for test set\n",
    "    verbose=1\n",
    ")\n",
    "\n",
    "print(f\"Test Loss: {test_loss:.4f}\")\n",
    "print(f\"Test Accuracy: {test_accuracy:.4f}\")\n"
   ]
  }
 ],
 "metadata": {
  "kernelspec": {
   "display_name": "Python 3",
   "language": "python",
   "name": "python3"
  },
  "language_info": {
   "codemirror_mode": {
    "name": "ipython",
    "version": 3
   },
   "file_extension": ".py",
   "mimetype": "text/x-python",
   "name": "python",
   "nbconvert_exporter": "python",
   "pygments_lexer": "ipython3",
   "version": "3.10.12"
  }
 },
 "nbformat": 4,
 "nbformat_minor": 2
}
